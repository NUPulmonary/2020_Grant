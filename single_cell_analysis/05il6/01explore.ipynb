{
 "cells": [
  {
   "cell_type": "code",
   "execution_count": 2,
   "metadata": {},
   "outputs": [],
   "source": [
    "import scanpy as sc\n",
    "import matplotlib as mpl\n",
    "import pandas as pd\n",
    "import matplotlib.pyplot as plt\n",
    "import numpy as np\n",
    "import os\n",
    "import re"
   ]
  },
  {
   "cell_type": "code",
   "execution_count": 3,
   "metadata": {},
   "outputs": [
    {
     "name": "stdout",
     "output_type": "stream",
     "text": [
      "The history saving thread hit an unexpected error (OperationalError('database is locked',)).History will not be written to the database.\n"
     ]
    }
   ],
   "source": [
    "import sys\n",
    "sys.path.insert(0, \"../lib\")"
   ]
  },
  {
   "cell_type": "code",
   "execution_count": 4,
   "metadata": {},
   "outputs": [],
   "source": [
    "import script.scanpy as sc_utils"
   ]
  },
  {
   "cell_type": "code",
   "execution_count": 5,
   "metadata": {},
   "outputs": [],
   "source": [
    "mpl.rcParams[\"figure.figsize\"] = (16, 12)\n",
    "pd.set_option('display.max_rows', 1000)"
   ]
  },
  {
   "cell_type": "markdown",
   "metadata": {},
   "source": [
    "## Load Habermann"
   ]
  },
  {
   "cell_type": "code",
   "execution_count": 14,
   "metadata": {},
   "outputs": [
    {
     "name": "stderr",
     "output_type": "stream",
     "text": [
      "/home/nmx5063/.local/share/virtualenvs/code-sz7XzLNG/lib/python3.6/site-packages/anndata/_core/anndata.py:1094: FutureWarning: is_categorical is deprecated and will be removed in a future version.  Use is_categorical_dtype instead\n",
      "  if not is_categorical(df_full[k]):\n"
     ]
    }
   ],
   "source": [
    "habermann = sc.read_10x_mtx(\"../data/05il6/habermann/\")"
   ]
  },
  {
   "cell_type": "code",
   "execution_count": 15,
   "metadata": {},
   "outputs": [],
   "source": [
    "habermann_meta = pd.read_csv(\"../data/05il6/habermann/metadata.csv\", index_col=0)"
   ]
  },
  {
   "cell_type": "code",
   "execution_count": 19,
   "metadata": {},
   "outputs": [
    {
     "name": "stderr",
     "output_type": "stream",
     "text": [
      "/home/nmx5063/.local/share/virtualenvs/code-sz7XzLNG/lib/python3.6/site-packages/anndata/_core/anndata.py:1094: FutureWarning: is_categorical is deprecated and will be removed in a future version.  Use is_categorical_dtype instead\n",
      "  if not is_categorical(df_full[k]):\n"
     ]
    }
   ],
   "source": [
    "habermann = habermann[habermann.obs_names.isin(habermann_meta.index), :]"
   ]
  },
  {
   "cell_type": "code",
   "execution_count": 20,
   "metadata": {},
   "outputs": [],
   "source": [
    "habermann.obs = habermann_meta.loc[habermann.obs_names, :]"
   ]
  },
  {
   "cell_type": "code",
   "execution_count": 22,
   "metadata": {},
   "outputs": [
    {
     "name": "stderr",
     "output_type": "stream",
     "text": [
      "/home/nmx5063/.local/share/virtualenvs/code-sz7XzLNG/lib/python3.6/site-packages/anndata/_core/anndata.py:1192: FutureWarning: is_categorical is deprecated and will be removed in a future version.  Use is_categorical_dtype instead\n",
      "  if is_string_dtype(df[key]) and not is_categorical(df[key])\n",
      "... storing 'orig.ident' as categorical\n",
      "... storing 'Diagnosis' as categorical\n",
      "... storing 'Sample_Name' as categorical\n",
      "... storing 'Sample_Source' as categorical\n",
      "... storing 'Status' as categorical\n",
      "... storing 'population' as categorical\n",
      "... storing 'celltype' as categorical\n",
      "... storing 'feature_types' as categorical\n"
     ]
    }
   ],
   "source": [
    "habermann.write_h5ad(\"../data/05il6/habermann/habermann.h5ad\")"
   ]
  },
  {
   "cell_type": "code",
   "execution_count": 160,
   "metadata": {},
   "outputs": [
    {
     "data": {
      "text/plain": [
       "Index(['F01157_AAACCTGAGCATCATC', 'F01157_AAACCTGTCATGCTCC',\n",
       "       'F01157_AAACGGGGTTACGACT', 'F01157_AAACGGGGTTAGTGGG',\n",
       "       'F01157_AAACGGGTCCTTTCGG', 'F01157_AAAGATGGTACCGAGA',\n",
       "       'F01157_AAAGATGTCAGCGATT', 'F01157_AAAGCAAAGCCAGAAC',\n",
       "       'F01157_AAAGCAAAGGACGAAA', 'F01157_AAAGCAAAGTATTGGA',\n",
       "       ...\n",
       "       'F01392_TTTGCGCGTGCTTCTC', 'F01392_TTTGCGCTCACTCCTG',\n",
       "       'F01392_TTTGGTTCAACTGCTA', 'F01392_TTTGGTTCATTCCTCG',\n",
       "       'F01392_TTTGGTTTCCCTCTTT', 'F01392_TTTGGTTTCTCTTGAT',\n",
       "       'F01392_TTTGTCACACCCAGTG', 'F01392_TTTGTCACAGATGGGT',\n",
       "       'F01392_TTTGTCATCTCATTCA', 'F01392_TTTGTCATCTTGTACT'],\n",
       "      dtype='object', length=114396)"
      ]
     },
     "execution_count": 160,
     "metadata": {},
     "output_type": "execute_result"
    }
   ],
   "source": [
    "habermann.obs_names"
   ]
  },
  {
   "cell_type": "markdown",
   "metadata": {},
   "source": [
    "## Load Liao"
   ]
  },
  {
   "cell_type": "code",
   "execution_count": 42,
   "metadata": {},
   "outputs": [],
   "source": [
    "def rename_genes(names):\n",
    "    names = names.str.replace(\"^GRCh38_+\", \"\")\n",
    "    names = names.str.replace(\"^SARS-CoV-2i_\", \"SARS-CoV-2-\")\n",
    "    names = names.str.replace(\"SARS-CoV-2-antisense\", \"Antisense\")\n",
    "    return names"
   ]
  },
  {
   "cell_type": "code",
   "execution_count": 26,
   "metadata": {},
   "outputs": [],
   "source": [
    "liao_meta = pd.read_csv(\"../data/05il6/liao-et-al/metadata.tsv\", sep=\"\\t\", index_col=0)"
   ]
  },
  {
   "cell_type": "code",
   "execution_count": 31,
   "metadata": {},
   "outputs": [
    {
     "data": {
      "text/html": [
       "<div>\n",
       "<style scoped>\n",
       "    .dataframe tbody tr th:only-of-type {\n",
       "        vertical-align: middle;\n",
       "    }\n",
       "\n",
       "    .dataframe tbody tr th {\n",
       "        vertical-align: top;\n",
       "    }\n",
       "\n",
       "    .dataframe thead th {\n",
       "        text-align: right;\n",
       "    }\n",
       "</style>\n",
       "<table border=\"1\" class=\"dataframe\">\n",
       "  <thead>\n",
       "    <tr style=\"text-align: right;\">\n",
       "      <th></th>\n",
       "      <th>sample</th>\n",
       "      <th>sample_new</th>\n",
       "      <th>group</th>\n",
       "      <th>disease</th>\n",
       "      <th>hasnCoV</th>\n",
       "      <th>cluster</th>\n",
       "      <th>celltype</th>\n",
       "    </tr>\n",
       "    <tr>\n",
       "      <th>ID</th>\n",
       "      <th></th>\n",
       "      <th></th>\n",
       "      <th></th>\n",
       "      <th></th>\n",
       "      <th></th>\n",
       "      <th></th>\n",
       "      <th></th>\n",
       "    </tr>\n",
       "  </thead>\n",
       "  <tbody>\n",
       "    <tr>\n",
       "      <th>AAACCTGAGACACTAA_1</th>\n",
       "      <td>C51</td>\n",
       "      <td>HC1</td>\n",
       "      <td>HC</td>\n",
       "      <td>N</td>\n",
       "      <td>N</td>\n",
       "      <td>3</td>\n",
       "      <td>Macrophages</td>\n",
       "    </tr>\n",
       "    <tr>\n",
       "      <th>AAACCTGAGATATACG_2</th>\n",
       "      <td>C52</td>\n",
       "      <td>HC2</td>\n",
       "      <td>HC</td>\n",
       "      <td>N</td>\n",
       "      <td>N</td>\n",
       "      <td>3</td>\n",
       "      <td>Macrophages</td>\n",
       "    </tr>\n",
       "    <tr>\n",
       "      <th>AAACCCACAGCTACAT_3</th>\n",
       "      <td>C100</td>\n",
       "      <td>HC3</td>\n",
       "      <td>HC</td>\n",
       "      <td>N</td>\n",
       "      <td>N</td>\n",
       "      <td>27</td>\n",
       "      <td>B</td>\n",
       "    </tr>\n",
       "    <tr>\n",
       "      <th>AAACCTGCAGCATGAG_4</th>\n",
       "      <td>GSM3660650</td>\n",
       "      <td>HC4</td>\n",
       "      <td>HC</td>\n",
       "      <td>N</td>\n",
       "      <td>N</td>\n",
       "      <td>6</td>\n",
       "      <td>T</td>\n",
       "    </tr>\n",
       "    <tr>\n",
       "      <th>AAACCTGAGATGTCGG_5</th>\n",
       "      <td>C141</td>\n",
       "      <td>M1</td>\n",
       "      <td>M</td>\n",
       "      <td>Y</td>\n",
       "      <td>N</td>\n",
       "      <td>6</td>\n",
       "      <td>T</td>\n",
       "    </tr>\n",
       "    <tr>\n",
       "      <th>AAACCTGAGTGAACGC_6</th>\n",
       "      <td>C142</td>\n",
       "      <td>M2</td>\n",
       "      <td>M</td>\n",
       "      <td>Y</td>\n",
       "      <td>N</td>\n",
       "      <td>6</td>\n",
       "      <td>T</td>\n",
       "    </tr>\n",
       "    <tr>\n",
       "      <th>AAACGGGTCGAATGCT_7</th>\n",
       "      <td>C144</td>\n",
       "      <td>M3</td>\n",
       "      <td>M</td>\n",
       "      <td>Y</td>\n",
       "      <td>N</td>\n",
       "      <td>20</td>\n",
       "      <td>mDC</td>\n",
       "    </tr>\n",
       "    <tr>\n",
       "      <th>AAACCTGAGACTTTCG_8</th>\n",
       "      <td>C143</td>\n",
       "      <td>S2</td>\n",
       "      <td>S</td>\n",
       "      <td>Y</td>\n",
       "      <td>N</td>\n",
       "      <td>4</td>\n",
       "      <td>Macrophages</td>\n",
       "    </tr>\n",
       "    <tr>\n",
       "      <th>AAACCTGAGCCCGAAA_9</th>\n",
       "      <td>C145</td>\n",
       "      <td>S1</td>\n",
       "      <td>S</td>\n",
       "      <td>Y</td>\n",
       "      <td>N</td>\n",
       "      <td>15</td>\n",
       "      <td>Neutrophil</td>\n",
       "    </tr>\n",
       "    <tr>\n",
       "      <th>AAACCTGCACGACTCG_10</th>\n",
       "      <td>C146</td>\n",
       "      <td>S3</td>\n",
       "      <td>S</td>\n",
       "      <td>Y</td>\n",
       "      <td>Y</td>\n",
       "      <td>1</td>\n",
       "      <td>Macrophages</td>\n",
       "    </tr>\n",
       "    <tr>\n",
       "      <th>AAACCTGAGGAATCGC_11</th>\n",
       "      <td>C148</td>\n",
       "      <td>S4</td>\n",
       "      <td>S</td>\n",
       "      <td>Y</td>\n",
       "      <td>N</td>\n",
       "      <td>0</td>\n",
       "      <td>Macrophages</td>\n",
       "    </tr>\n",
       "    <tr>\n",
       "      <th>AAACCTGCAGTGGGAT_12</th>\n",
       "      <td>C149</td>\n",
       "      <td>S5</td>\n",
       "      <td>S</td>\n",
       "      <td>Y</td>\n",
       "      <td>N</td>\n",
       "      <td>9</td>\n",
       "      <td>T</td>\n",
       "    </tr>\n",
       "    <tr>\n",
       "      <th>AAACCTGAGCCACTAT_13</th>\n",
       "      <td>C152</td>\n",
       "      <td>S6</td>\n",
       "      <td>S</td>\n",
       "      <td>Y</td>\n",
       "      <td>Y</td>\n",
       "      <td>19</td>\n",
       "      <td>Plasma</td>\n",
       "    </tr>\n",
       "  </tbody>\n",
       "</table>\n",
       "</div>"
      ],
      "text/plain": [
       "                         sample sample_new group disease hasnCoV  cluster  \\\n",
       "ID                                                                          \n",
       "AAACCTGAGACACTAA_1          C51        HC1    HC       N       N        3   \n",
       "AAACCTGAGATATACG_2          C52        HC2    HC       N       N        3   \n",
       "AAACCCACAGCTACAT_3         C100        HC3    HC       N       N       27   \n",
       "AAACCTGCAGCATGAG_4   GSM3660650        HC4    HC       N       N        6   \n",
       "AAACCTGAGATGTCGG_5         C141         M1     M       Y       N        6   \n",
       "AAACCTGAGTGAACGC_6         C142         M2     M       Y       N        6   \n",
       "AAACGGGTCGAATGCT_7         C144         M3     M       Y       N       20   \n",
       "AAACCTGAGACTTTCG_8         C143         S2     S       Y       N        4   \n",
       "AAACCTGAGCCCGAAA_9         C145         S1     S       Y       N       15   \n",
       "AAACCTGCACGACTCG_10        C146         S3     S       Y       Y        1   \n",
       "AAACCTGAGGAATCGC_11        C148         S4     S       Y       N        0   \n",
       "AAACCTGCAGTGGGAT_12        C149         S5     S       Y       N        9   \n",
       "AAACCTGAGCCACTAT_13        C152         S6     S       Y       Y       19   \n",
       "\n",
       "                        celltype  \n",
       "ID                                \n",
       "AAACCTGAGACACTAA_1   Macrophages  \n",
       "AAACCTGAGATATACG_2   Macrophages  \n",
       "AAACCCACAGCTACAT_3             B  \n",
       "AAACCTGCAGCATGAG_4             T  \n",
       "AAACCTGAGATGTCGG_5             T  \n",
       "AAACCTGAGTGAACGC_6             T  \n",
       "AAACGGGTCGAATGCT_7           mDC  \n",
       "AAACCTGAGACTTTCG_8   Macrophages  \n",
       "AAACCTGAGCCCGAAA_9    Neutrophil  \n",
       "AAACCTGCACGACTCG_10  Macrophages  \n",
       "AAACCTGAGGAATCGC_11  Macrophages  \n",
       "AAACCTGCAGTGGGAT_12            T  \n",
       "AAACCTGAGCCACTAT_13       Plasma  "
      ]
     },
     "execution_count": 31,
     "metadata": {},
     "output_type": "execute_result"
    }
   ],
   "source": [
    "liao_meta.groupby(\"sample\").head(1)"
   ]
  },
  {
   "cell_type": "code",
   "execution_count": 65,
   "metadata": {},
   "outputs": [
    {
     "name": "stderr",
     "output_type": "stream",
     "text": [
      "/home/nmx5063/.local/share/virtualenvs/code-sz7XzLNG/lib/python3.6/site-packages/anndata/_core/anndata.py:1094: FutureWarning: is_categorical is deprecated and will be removed in a future version.  Use is_categorical_dtype instead\n",
      "  if not is_categorical(df_full[k]):\n"
     ]
    }
   ],
   "source": [
    "samples = []\n",
    "for s in os.listdir(\"../data/05il6/liao-et-al/\"):\n",
    "    if not os.path.isdir(f\"../data/05il6/liao-et-al/{s}\"):\n",
    "        continue\n",
    "    num = liao_meta.index[liao_meta[\"sample\"] == s][0].split(\"_\")[1]\n",
    "    ds = sc.read_10x_mtx(f\"../data/05il6/liao-et-al/{s}/\")\n",
    "    ds.var_names = rename_genes(ds.var_names)\n",
    "    ds.var_names_make_unique(join=\".\")\n",
    "    ds.obs_names = ds.obs_names.str.replace(\"-\\d+$\", \"\") + f\"_{num}\"\n",
    "    samples.append(ds)"
   ]
  },
  {
   "cell_type": "code",
   "execution_count": 66,
   "metadata": {},
   "outputs": [],
   "source": [
    "liao = samples[0].concatenate(samples[1:])"
   ]
  },
  {
   "cell_type": "code",
   "execution_count": 67,
   "metadata": {},
   "outputs": [],
   "source": [
    "liao.obs_names = liao.obs_names.str.replace(\"-\\d+$\", \"\")"
   ]
  },
  {
   "cell_type": "code",
   "execution_count": 68,
   "metadata": {},
   "outputs": [
    {
     "data": {
      "text/plain": [
       "42272"
      ]
     },
     "execution_count": 68,
     "metadata": {},
     "output_type": "execute_result"
    }
   ],
   "source": [
    "liao_meta.index.isin(liao.obs_names).sum()"
   ]
  },
  {
   "cell_type": "markdown",
   "metadata": {},
   "source": [
    "Check missing cells"
   ]
  },
  {
   "cell_type": "code",
   "execution_count": 74,
   "metadata": {},
   "outputs": [
    {
     "data": {
      "text/plain": [
       "C51           8454\n",
       "C52           8153\n",
       "GSM3660650    2710\n",
       "C100          2566\n",
       "C143           899\n",
       "C145           422\n",
       "C152           152\n",
       "C148            55\n",
       "C149            51\n",
       "C142            40\n",
       "C141            30\n",
       "C146             9\n",
       "Name: sample, dtype: int64"
      ]
     },
     "execution_count": 74,
     "metadata": {},
     "output_type": "execute_result"
    }
   ],
   "source": [
    "liao_meta[\"sample\"][~liao_meta.index.isin(liao.obs_names)].value_counts()"
   ]
  },
  {
   "cell_type": "code",
   "execution_count": 76,
   "metadata": {},
   "outputs": [
    {
     "name": "stderr",
     "output_type": "stream",
     "text": [
      "/home/nmx5063/.local/share/virtualenvs/code-sz7XzLNG/lib/python3.6/site-packages/anndata/_core/anndata.py:1094: FutureWarning: is_categorical is deprecated and will be removed in a future version.  Use is_categorical_dtype instead\n",
      "  if not is_categorical(df_full[k]):\n"
     ]
    }
   ],
   "source": [
    "liao_cells = liao.obs_names[liao.obs_names.isin(liao_meta.index)]\n",
    "liao = liao[liao.obs_names.isin(liao_cells), :]\n",
    "liao.obs = liao_meta.loc[liao_cells, :]"
   ]
  },
  {
   "cell_type": "code",
   "execution_count": 78,
   "metadata": {},
   "outputs": [
    {
     "name": "stderr",
     "output_type": "stream",
     "text": [
      "/home/nmx5063/.local/share/virtualenvs/code-sz7XzLNG/lib/python3.6/site-packages/anndata/_core/anndata.py:1192: FutureWarning: is_categorical is deprecated and will be removed in a future version.  Use is_categorical_dtype instead\n",
      "  if is_string_dtype(df[key]) and not is_categorical(df[key])\n",
      "... storing 'sample' as categorical\n",
      "... storing 'sample_new' as categorical\n",
      "... storing 'group' as categorical\n",
      "... storing 'disease' as categorical\n",
      "... storing 'hasnCoV' as categorical\n",
      "... storing 'celltype' as categorical\n",
      "... storing 'feature_types' as categorical\n"
     ]
    }
   ],
   "source": [
    "liao.write_h5ad(\"../data/05il6/liao-et-al/liao.h5ad\")"
   ]
  },
  {
   "cell_type": "markdown",
   "metadata": {},
   "source": [
    "## Load Grant"
   ]
  },
  {
   "cell_type": "code",
   "execution_count": 21,
   "metadata": {},
   "outputs": [],
   "source": [
    "grant = sc.read_h5ad(\"../data/04dataset/04obj-manual.h5ad\")"
   ]
  },
  {
   "cell_type": "code",
   "execution_count": 22,
   "metadata": {},
   "outputs": [],
   "source": [
    "grant = grant.raw.to_adata()"
   ]
  },
  {
   "cell_type": "markdown",
   "metadata": {},
   "source": [
    "## Merge"
   ]
  },
  {
   "cell_type": "markdown",
   "metadata": {},
   "source": [
    "First merge Habermann and Liao, they have raw counts"
   ]
  },
  {
   "cell_type": "code",
   "execution_count": 23,
   "metadata": {},
   "outputs": [
    {
     "name": "stderr",
     "output_type": "stream",
     "text": [
      "/projects/b1038/Pulmonary/nmarkov/script/code/.venv/lib/python3.6/site-packages/numpy/core/fromnumeric.py:87: VisibleDeprecationWarning: Creating an ndarray from ragged nested sequences (which is a list-or-tuple of lists-or-tuples-or ndarrays with different lengths or shapes) is deprecated. If you meant to do this, you must specify 'dtype=object' when creating the ndarray\n",
      "  return ufunc.reduce(obj, axis, dtype, out, **passkwargs)\n",
      "/projects/b1038/Pulmonary/nmarkov/script/code/.venv/lib/python3.6/site-packages/anndata/_core/merge.py:461: FutureWarning: Sorting because non-concatenation axis is not aligned. A future version\n",
      "of pandas will change to not sort by default.\n",
      "\n",
      "To accept the future behavior, pass 'sort=False'.\n",
      "\n",
      "To retain the current behavior and silence the warning, pass 'sort=True'.\n",
      "\n",
      "  obs = pd.concat([a.obs for a in adatas], ignore_index=True)\n"
     ]
    }
   ],
   "source": [
    "total = habermann.concatenate([liao])"
   ]
  },
  {
   "cell_type": "code",
   "execution_count": 24,
   "metadata": {},
   "outputs": [],
   "source": [
    "total.obs_names = total.obs_names.str.replace(\"-\\d+$\", \"\")"
   ]
  },
  {
   "cell_type": "code",
   "execution_count": 25,
   "metadata": {},
   "outputs": [],
   "source": [
    "sc.pp.normalize_total(total, target_sum=1e4)\n",
    "sc.pp.log1p(total)"
   ]
  },
  {
   "cell_type": "markdown",
   "metadata": {},
   "source": [
    "Then add Grant, as counts are already normalized"
   ]
  },
  {
   "cell_type": "code",
   "execution_count": 26,
   "metadata": {},
   "outputs": [
    {
     "name": "stderr",
     "output_type": "stream",
     "text": [
      "/projects/b1038/Pulmonary/nmarkov/script/code/.venv/lib/python3.6/site-packages/numpy/core/fromnumeric.py:87: VisibleDeprecationWarning: Creating an ndarray from ragged nested sequences (which is a list-or-tuple of lists-or-tuples-or ndarrays with different lengths or shapes) is deprecated. If you meant to do this, you must specify 'dtype=object' when creating the ndarray\n",
      "  return ufunc.reduce(obj, axis, dtype, out, **passkwargs)\n",
      "/projects/b1038/Pulmonary/nmarkov/script/code/.venv/lib/python3.6/site-packages/anndata/_core/merge.py:461: FutureWarning: Sorting because non-concatenation axis is not aligned. A future version\n",
      "of pandas will change to not sort by default.\n",
      "\n",
      "To accept the future behavior, pass 'sort=False'.\n",
      "\n",
      "To retain the current behavior and silence the warning, pass 'sort=True'.\n",
      "\n",
      "  obs = pd.concat([a.obs for a in adatas], ignore_index=True)\n"
     ]
    }
   ],
   "source": [
    "total = total.concatenate([grant])"
   ]
  },
  {
   "cell_type": "code",
   "execution_count": 27,
   "metadata": {},
   "outputs": [],
   "source": [
    "total.obs_names = total.obs_names.str.replace(\"-\\d+$\", \"\")"
   ]
  },
  {
   "cell_type": "code",
   "execution_count": 28,
   "metadata": {},
   "outputs": [],
   "source": [
    "total.obs[\"study\"] = \"\"\n",
    "total.obs.loc[grant.obs.index, \"study\"] = \"G\"\n",
    "total.obs.loc[habermann.obs.index, \"study\"] = \"H\"\n",
    "total.obs.loc[liao.obs.index, \"study\"] = \"L\""
   ]
  },
  {
   "cell_type": "code",
   "execution_count": 29,
   "metadata": {},
   "outputs": [],
   "source": [
    "total.obs.celltype = total.obs.celltype.astype(str)\n",
    "total.obs.celltype = \"(\" + total.obs.study + \".) \" + total.obs.celltype\n",
    "total.obs.celltype = total.obs.celltype.astype(\"category\")"
   ]
  },
  {
   "cell_type": "code",
   "execution_count": 30,
   "metadata": {},
   "outputs": [
    {
     "data": {
      "text/plain": [
       "(H.) Macrophages                       38928\n",
       "(L.) Macrophages                       29604\n",
       "(G.) TRAM1                             26911\n",
       "(H.) Ciliated                          14671\n",
       "(G.) MoAM3                             12535\n",
       "(G.) MoAM2                             12054\n",
       "(G.) MoAM4                             11839\n",
       "(H.) AT2                                9311\n",
       "(H.) Endothelial Cells                  9243\n",
       "(H.) Monocytes                          6765\n",
       "(H.) T Cells                            6703\n",
       "(L.) T                                  6485\n",
       "(G.) CD4 CM T cells                     5883\n",
       "(G.) Plasma cells                       5757\n",
       "(G.) CD8 cytotoxic T cells              5237\n",
       "(G.) MoAM1                              4656\n",
       "(G.) CD8 cytotoxic TRM T cells          3532\n",
       "(H.) SCGB3A2+                           3220\n",
       "(G.) TRAM2                              2450\n",
       "(H.) MUC5B+                             2433\n",
       "(H.) NK Cells                           2322\n",
       "(H.) cDCs                               2132\n",
       "(L.) Epithelial                         2089\n",
       "(H.) Basal                              2058\n",
       "(G.) CD4 cytotoxic T cells              1882\n",
       "(H.) Myofibroblasts                     1712\n",
       "(G.) Mixed myeloid                      1604\n",
       "(H.) Proliferating Macrophages          1563\n",
       "(G.) Ciliated cells                     1493\n",
       "(G.) pDC                                1469\n",
       "(H.) SCGB3A2+ SCGB1A1+                  1410\n",
       "(H.) Smooth Muscle Cells                1394\n",
       "(L.) Neutrophil                         1381\n",
       "(H.) Differentiating Ciliated           1362\n",
       "(H.) PLIN2+ Fibroblasts                 1287\n",
       "(H.) Lymphatic Endothelial Cells        1203\n",
       "(G.) CD8 proliferating T cells          1178\n",
       "(H.) Transitional AT2                   1160\n",
       "(G.) iNKT cells                         1022\n",
       "(G.) CD4 proliferating T cells          1007\n",
       "(H.) B Cells                             997\n",
       "(L.) NK                                  984\n",
       "(L.) Plasma                              903\n",
       "(G.) Migratory DC                        903\n",
       "(G.) Treg                                900\n",
       "(G.) DC1                                 890\n",
       "(G.) DC2                                 824\n",
       "(H.) AT1                                 771\n",
       "(H.) Mast Cells                          701\n",
       "(G.) B cells                             644\n",
       "(H.) Plasma Cells                        604\n",
       "(H.) Proliferating T Cells               490\n",
       "(H.) KRT5-/KRT17+                        485\n",
       "(L.) mDC                                 477\n",
       "(H.) Fibroblasts                         427\n",
       "(G.) Club, Basal cells                   394\n",
       "(H.) Proliferating Epithelial Cells      341\n",
       "(G.) AT2, AT1 cells                      260\n",
       "(H.) Mesothelial Cells                   233\n",
       "(G.) Proliferating AM                    226\n",
       "(H.) pDCs                                188\n",
       "(H.) HAS1 High Fibroblasts               179\n",
       "(L.) B                                   169\n",
       "(L.) pDC                                 136\n",
       "(H.) MUC5AC+ High                        103\n",
       "(G.) Infected AT2, AT1 cells              74\n",
       "(G.) Ionocytes                            54\n",
       "(L.) Mast                                 44\n",
       "(G.) Mast cells                           37\n",
       "Name: celltype, dtype: int64"
      ]
     },
     "execution_count": 30,
     "metadata": {},
     "output_type": "execute_result"
    }
   ],
   "source": [
    "total.obs.celltype.value_counts(dropna=False)"
   ]
  },
  {
   "cell_type": "code",
   "execution_count": 31,
   "metadata": {},
   "outputs": [],
   "source": [
    "cd4_il6 = total[total.obs.celltype == \"(G.) CD4 CM T cells\", total.var_names == \"IL6\"].X.todense().A.reshape(-1)"
   ]
  },
  {
   "cell_type": "code",
   "execution_count": 32,
   "metadata": {},
   "outputs": [
    {
     "data": {
      "text/plain": [
       "count    5883.000000\n",
       "mean        0.000279\n",
       "std         0.021411\n",
       "min         0.000000\n",
       "25%         0.000000\n",
       "50%         0.000000\n",
       "75%         0.000000\n",
       "max         1.642228\n",
       "dtype: float64"
      ]
     },
     "execution_count": 32,
     "metadata": {},
     "output_type": "execute_result"
    }
   ],
   "source": [
    "pd.Series(cd4_il6).describe()"
   ]
  },
  {
   "cell_type": "code",
   "execution_count": 33,
   "metadata": {},
   "outputs": [],
   "source": [
    "end_il6 = total[total.obs.celltype == \"(H.) Endothelial Cells\", total.var_names == \"IL6\"].X.todense().A.reshape(-1)"
   ]
  },
  {
   "cell_type": "code",
   "execution_count": 34,
   "metadata": {},
   "outputs": [
    {
     "data": {
      "text/plain": [
       "count    9243.000000\n",
       "mean        0.303196\n",
       "std         0.762369\n",
       "min         0.000000\n",
       "25%         0.000000\n",
       "50%         0.000000\n",
       "75%         0.000000\n",
       "max         5.461442\n",
       "dtype: float64"
      ]
     },
     "execution_count": 34,
     "metadata": {},
     "output_type": "execute_result"
    }
   ],
   "source": [
    "pd.Series(end_il6).describe()"
   ]
  },
  {
   "cell_type": "code",
   "execution_count": 35,
   "metadata": {},
   "outputs": [
    {
     "name": "stderr",
     "output_type": "stream",
     "text": [
      "... storing 'COVID-19' as categorical\n",
      "... storing 'Diagnosis' as categorical\n",
      "... storing 'Sample_Name' as categorical\n",
      "... storing 'Sample_Source' as categorical\n",
      "... storing 'Status' as categorical\n",
      "... storing 'cluster' as categorical\n",
      "... storing 'disease' as categorical\n",
      "... storing 'group' as categorical\n",
      "... storing 'hasnCoV' as categorical\n",
      "... storing 'leiden' as categorical\n",
      "... storing 'orig.ident' as categorical\n",
      "... storing 'patient' as categorical\n",
      "... storing 'population' as categorical\n",
      "... storing 'sample' as categorical\n",
      "... storing 'sample_new' as categorical\n",
      "... storing 'sample_status' as categorical\n",
      "... storing 'type' as categorical\n",
      "... storing 'study' as categorical\n"
     ]
    },
    {
     "name": "stdout",
     "output_type": "stream",
     "text": [
      "WARNING: saving figure to file figures/dotplot01il6-dotplot.pdf\n"
     ]
    },
    {
     "data": {
      "image/png": "[encoded data removed]",
      "text/plain": [
       "<Figure size 93.6x1562.4 with 3 Axes>"
      ]
     },
     "metadata": {
      "needs_background": "light"
     },
     "output_type": "display_data"
    },
    {
     "data": {
      "text/plain": [
       "GridSpec(2, 5, height_ratios=[0, 10.5], width_ratios=[0.35, 0, 0.2, 0.5, 0.25])"
      ]
     },
     "execution_count": 35,
     "metadata": {},
     "output_type": "execute_result"
    }
   ],
   "source": [
    "sc.pl.dotplot(total, \"IL6\", 'celltype', save=\"01il6-dotplot.pdf\")"
   ]
  },
  {
   "cell_type": "code",
   "execution_count": 36,
   "metadata": {},
   "outputs": [],
   "source": [
    "total.write_h5ad(\"../data/05il6/total.h5ad\")"
   ]
  },
  {
   "cell_type": "code",
   "execution_count": 11,
   "metadata": {},
   "outputs": [],
   "source": [
    "total = sc.read_h5ad(\"../data/05il6/total.h5ad\")"
   ]
  },
  {
   "cell_type": "markdown",
   "metadata": {},
   "source": [
    "## Split Habermann cells into Healthy and Fibrosis"
   ]
  },
  {
   "cell_type": "code",
   "execution_count": 76,
   "metadata": {},
   "outputs": [],
   "source": [
    "total.obs[\"plot_group\"] = \"\""
   ]
  },
  {
   "cell_type": "code",
   "execution_count": 77,
   "metadata": {},
   "outputs": [
    {
     "data": {
      "text/plain": [
       "nan        147987\n",
       "Disease     82752\n",
       "Control     31644\n",
       "Name: Status, dtype: int64"
      ]
     },
     "execution_count": 77,
     "metadata": {},
     "output_type": "execute_result"
    }
   ],
   "source": [
    "total.obs.Status.value_counts()"
   ]
  },
  {
   "cell_type": "code",
   "execution_count": 78,
   "metadata": {},
   "outputs": [],
   "source": [
    "total.obs.loc[total.obs.Status == \"Disease\", \"plot_group\"] = \"(H.) Fibrosis\""
   ]
  },
  {
   "cell_type": "code",
   "execution_count": 79,
   "metadata": {},
   "outputs": [],
   "source": [
    "total.obs.loc[total.obs.Status == \"Control\", \"plot_group\"] = \"(H.) Control\""
   ]
  },
  {
   "cell_type": "code",
   "execution_count": 80,
   "metadata": {},
   "outputs": [
    {
     "data": {
      "text/plain": [
       "nan    220111\n",
       "S       35031\n",
       "M        7241\n",
       "Name: group, dtype: int64"
      ]
     },
     "execution_count": 80,
     "metadata": {},
     "output_type": "execute_result"
    }
   ],
   "source": [
    "total.obs.group.value_counts()"
   ]
  },
  {
   "cell_type": "code",
   "execution_count": 81,
   "metadata": {},
   "outputs": [],
   "source": [
    "total.obs.loc[total.obs.group == \"S\", \"plot_group\"] = \"(L.) Severe COVID-19\""
   ]
  },
  {
   "cell_type": "code",
   "execution_count": 82,
   "metadata": {},
   "outputs": [],
   "source": [
    "total.obs.loc[total.obs.group == \"M\", \"plot_group\"] = \"(L.) Mild COVID-19\""
   ]
  },
  {
   "cell_type": "code",
   "execution_count": 83,
   "metadata": {},
   "outputs": [],
   "source": [
    "total.obs.loc[total.obs.patient != \"nan\", \"plot_group\"] = \"(G.) Patient \" + total.obs.patient.astype(str)"
   ]
  },
  {
   "cell_type": "code",
   "execution_count": 85,
   "metadata": {},
   "outputs": [],
   "source": [
    "total.obs.plot_group = total.obs.plot_group.astype(\"category\")"
   ]
  },
  {
   "cell_type": "code",
   "execution_count": 86,
   "metadata": {},
   "outputs": [],
   "source": [
    "il6expr = total[:, total.var_names == \"IL6\"].X.todense().A.reshape(-1)"
   ]
  },
  {
   "cell_type": "code",
   "execution_count": 87,
   "metadata": {},
   "outputs": [
    {
     "data": {
      "text/plain": [
       "(array([2.52955e+05, 3.17600e+03, 2.89400e+03, 1.68200e+03, 8.95000e+02,\n",
       "        4.33000e+02, 2.02000e+02, 9.80000e+01, 4.10000e+01, 7.00000e+00]),\n",
       " array([0.       , 0.5461441, 1.0922883, 1.6384325, 2.1845765, 2.7307208,\n",
       "        3.276865 , 3.823009 , 4.369153 , 4.9152975, 5.4614415],\n",
       "       dtype=float32),\n",
       " <a list of 10 Patch objects>)"
      ]
     },
     "execution_count": 87,
     "metadata": {},
     "output_type": "execute_result"
    },
    {
     "data": {
      "image/png": "[encoded data removed]",
      "text/plain": [
       "<Figure size 1152x864 with 1 Axes>"
      ]
     },
     "metadata": {
      "needs_background": "light"
     },
     "output_type": "display_data"
    }
   ],
   "source": [
    "plt.hist(il6expr)"
   ]
  },
  {
   "cell_type": "markdown",
   "metadata": {},
   "source": [
    "## Plot"
   ]
  },
  {
   "cell_type": "code",
   "execution_count": 88,
   "metadata": {},
   "outputs": [
    {
     "data": {
      "text/plain": [
       "(H.) Fibrosis           82752\n",
       "(L.) Severe COVID-19    35031\n",
       "(H.) Control            31644\n",
       "(G.) Patient C          17961\n",
       "(G.) Patient 8          16099\n",
       "(G.) Patient A          15373\n",
       "(G.) Patient 6          10608\n",
       "(G.) Patient 9          10374\n",
       "(G.) Patient 3           9353\n",
       "(L.) Mild COVID-19       7241\n",
       "(G.) Patient 1           7060\n",
       "(G.) Patient B           4956\n",
       "(G.) Patient 7           4887\n",
       "(G.) Patient 5           3909\n",
       "(G.) Patient 4           2756\n",
       "(G.) Patient 2           2379\n",
       "Name: plot_group, dtype: int64"
      ]
     },
     "execution_count": 88,
     "metadata": {},
     "output_type": "execute_result"
    }
   ],
   "source": [
    "total.obs.plot_group.value_counts()"
   ]
  },
  {
   "cell_type": "code",
   "execution_count": 91,
   "metadata": {},
   "outputs": [],
   "source": [
    "plot_group_order = list(sorted(\n",
    "    total.obs.plot_group.cat.categories,\n",
    "    key=lambda x: x.replace(\"H.\", \"X.\")\n",
    "))"
   ]
  },
  {
   "cell_type": "code",
   "execution_count": 92,
   "metadata": {},
   "outputs": [
    {
     "data": {
      "text/plain": [
       "(G.) AT2, AT1 cells                      260\n",
       "(G.) B cells                             644\n",
       "(G.) CD4 CM T cells                     5883\n",
       "(G.) CD4 cytotoxic T cells              1882\n",
       "(G.) CD4 proliferating T cells          1007\n",
       "(G.) CD8 cytotoxic T cells              5237\n",
       "(G.) CD8 cytotoxic TRM T cells          3532\n",
       "(G.) CD8 proliferating T cells          1178\n",
       "(G.) Ciliated cells                     1493\n",
       "(G.) Club, Basal cells                   394\n",
       "(G.) DC1                                 890\n",
       "(G.) DC2                                 824\n",
       "(G.) Infected AT2, AT1 cells              74\n",
       "(G.) Ionocytes                            54\n",
       "(G.) Mast cells                           37\n",
       "(G.) Migratory DC                        903\n",
       "(G.) Mixed myeloid                      1604\n",
       "(G.) MoAM1                              4656\n",
       "(G.) MoAM2                             12054\n",
       "(G.) MoAM3                             12535\n",
       "(G.) MoAM4                             11839\n",
       "(G.) Plasma cells                       5757\n",
       "(G.) Proliferating AM                    226\n",
       "(G.) TRAM1                             26911\n",
       "(G.) TRAM2                              2450\n",
       "(G.) Treg                                900\n",
       "(G.) iNKT cells                         1022\n",
       "(G.) pDC                                1469\n",
       "(H.) AT1                                 771\n",
       "(H.) AT2                                9311\n",
       "(H.) B Cells                             997\n",
       "(H.) Basal                              2058\n",
       "(H.) Ciliated                          14671\n",
       "(H.) Differentiating Ciliated           1362\n",
       "(H.) Endothelial Cells                  9243\n",
       "(H.) Fibroblasts                         427\n",
       "(H.) HAS1 High Fibroblasts               179\n",
       "(H.) KRT5-/KRT17+                        485\n",
       "(H.) Lymphatic Endothelial Cells        1203\n",
       "(H.) MUC5AC+ High                        103\n",
       "(H.) MUC5B+                             2433\n",
       "(H.) Macrophages                       38928\n",
       "(H.) Mast Cells                          701\n",
       "(H.) Mesothelial Cells                   233\n",
       "(H.) Monocytes                          6765\n",
       "(H.) Myofibroblasts                     1712\n",
       "(H.) NK Cells                           2322\n",
       "(H.) PLIN2+ Fibroblasts                 1287\n",
       "(H.) Plasma Cells                        604\n",
       "(H.) Proliferating Epithelial Cells      341\n",
       "(H.) Proliferating Macrophages          1563\n",
       "(H.) Proliferating T Cells               490\n",
       "(H.) SCGB3A2+                           3220\n",
       "(H.) SCGB3A2+ SCGB1A1+                  1410\n",
       "(H.) Smooth Muscle Cells                1394\n",
       "(H.) T Cells                            6703\n",
       "(H.) Transitional AT2                   1160\n",
       "(H.) cDCs                               2132\n",
       "(H.) pDCs                                188\n",
       "(L.) B                                   169\n",
       "(L.) Epithelial                         2089\n",
       "(L.) Macrophages                       29604\n",
       "(L.) Mast                                 44\n",
       "(L.) NK                                  984\n",
       "(L.) Neutrophil                         1381\n",
       "(L.) Plasma                              903\n",
       "(L.) T                                  6485\n",
       "(L.) mDC                                 477\n",
       "(L.) pDC                                 136\n",
       "Name: celltype, dtype: int64"
      ]
     },
     "execution_count": 92,
     "metadata": {},
     "output_type": "execute_result"
    }
   ],
   "source": [
    "total.obs.celltype.value_counts().sort_index()"
   ]
  },
  {
   "cell_type": "code",
   "execution_count": 93,
   "metadata": {},
   "outputs": [],
   "source": [
    "keep_celltypes = [\n",
    "    \"(H.) B Cells\", \"(H.) Endothelial Cells\", \"(H.) Fibroblasts\", \"(H.) HAS1 High Fibroblasts\",\n",
    "    \"(H.) Lymphatic Endothelial Cells\", \"(H.) Macrophages\", \"(H.) Mesothelial Cells\", \n",
    "    \"(H.) Myofibroblasts\", \"(H.) PLIN2+ Fibroblasts\", \"(H.) Proliferating Macrophages\",\n",
    "    \"(H.) SCGB3A2+ SCGB1A1+\", \"(H.) Smooth Muscle Cells\", \"(L.) Macrophages\", \"(L.) Neutrophil\"\n",
    "]"
   ]
  },
  {
   "cell_type": "code",
   "execution_count": 94,
   "metadata": {},
   "outputs": [],
   "source": [
    "clusters = total.obs.celltype.astype(\"category\").cat.categories\n",
    "clusters = clusters[clusters.str.startswith(\"(G\") | clusters.isin(keep_celltypes)]"
   ]
  },
  {
   "cell_type": "code",
   "execution_count": 95,
   "metadata": {},
   "outputs": [],
   "source": [
    "clusters_order = list(sorted(\n",
    "    clusters, \n",
    "    key=lambda x: x.replace(\"H.\", \"X.\")\\\n",
    "        .replace(\"Infected \", \"\").replace(\"Plasma\", \"BP\")\\\n",
    "        .replace(\"Treg\", \"CD9\").replace(\"iNKT\", \"CD99\")\\\n",
    "        .replace(\"pDC\", \"DC3\").replace(\"Io\", \"Cluz\")\n",
    "))"
   ]
  },
  {
   "cell_type": "code",
   "execution_count": 96,
   "metadata": {},
   "outputs": [
    {
     "name": "stderr",
     "output_type": "stream",
     "text": [
      "/projects/b1038/Pulmonary/nmarkov/script/code/.venv/lib/python3.6/site-packages/numpy/core/fromnumeric.py:3373: RuntimeWarning: Mean of empty slice.\n",
      "  out=out, **kwargs)\n",
      "/projects/b1038/Pulmonary/nmarkov/script/code/.venv/lib/python3.6/site-packages/numpy/core/_methods.py:170: RuntimeWarning: invalid value encountered in true_divide\n",
      "  ret = ret.dtype.type(ret / rcount)\n"
     ]
    }
   ],
   "source": [
    "il6_mask = total.var_names == \"IL6\"\n",
    "il6_mean_rows = []\n",
    "for i, p in enumerate(plot_group_order):\n",
    "    for j, c in enumerate(clusters_order):\n",
    "        expr = il6expr[(total.obs.celltype == c) & (total.obs.plot_group == p)]\n",
    "        pct = np.sum(expr > 0) / (total.obs.celltype == c).sum()\n",
    "        mean = np.mean(expr)\n",
    "        il6_mean_rows.append((i, j, p, c, mean, pct, expr.shape[0]))"
   ]
  },
  {
   "cell_type": "code",
   "execution_count": 97,
   "metadata": {},
   "outputs": [],
   "source": [
    "il6_df = pd.DataFrame(il6_mean_rows, columns=[\"idx_p\", \"idx_c\", \"patient\", \"cluster\", \"mean_expr\", \"pct\", \"count\"])"
   ]
  },
  {
   "cell_type": "code",
   "execution_count": 98,
   "metadata": {},
   "outputs": [],
   "source": [
    "il6_df.fillna(0, inplace=True)"
   ]
  },
  {
   "cell_type": "code",
   "execution_count": 100,
   "metadata": {},
   "outputs": [
    {
     "data": {
      "image/png": "[encoded data removed]",
      "text/plain": [
       "<Figure size 864x432 with 3 Axes>"
      ]
     },
     "metadata": {
      "needs_background": "light"
     },
     "output_type": "display_data"
    }
   ],
   "source": [
    "fig = plt.figure(figsize=(12, 6))\n",
    "gs = mpl.gridspec.GridSpec(2, 2, figure=fig, width_ratios=(39, 1), wspace=0.05, hspace=0.1)\n",
    "ax1 = fig.add_subplot(gs[:, 0])\n",
    "cax = fig.add_subplot(gs[0, 1])\n",
    "sax = fig.add_subplot(gs[1, 1])\n",
    "x = ax1.scatter(\n",
    "    il6_df.idx_c, \n",
    "    il6_df.idx_p * -1, \n",
    "    s=il6_df.pct * 200, \n",
    "    c=il6_df.mean_expr, \n",
    "    cmap=sc_utils.expr_colormap()\n",
    ")\n",
    "fig.subplots_adjust(bottom=0.45)\n",
    "fig.colorbar(x, cax=cax, ticks=[0, 0.4, il6_df.mean_expr.max()])\n",
    "cax.set_title(\"Expression\\nlevel\", ha=\"left\", pad=10)\n",
    "cax_p = cax.get_position()\n",
    "cax_p.y0 += 0.08\n",
    "cax_p.x0 += 0.02\n",
    "cax_p.x1 += 0.03\n",
    "cax.set_position(cax_p)\n",
    "\n",
    "ax1.set_yticks(range(0, -total.obs.plot_group.unique().size, -1))\n",
    "ax1.set_yticklabels(plot_group_order, fontsize=13)\n",
    "ax1.set_ylim(-total.obs.plot_group.unique().size, 1)\n",
    "ax1.set_xlim(-1, clusters.size)\n",
    "ax1.set_xticks(range(clusters.size))\n",
    "ax1.set_xticklabels(clusters_order, rotation=90, fontsize=13)\n",
    "ax1_p = ax1.get_position()\n",
    "ax1_p.x0 += 0.05\n",
    "ax1_p.x1 += 0.03\n",
    "ax1_p.y0 -= 0.05\n",
    "ax1_p.y1 += 0.05\n",
    "ax1.set_position(ax1_p)\n",
    "trans = mpl.transforms.Affine2D().translate(6, 0)\n",
    "# for t in ax1.get_xticklabels():\n",
    "#     t.set_transform(t.get_transform() + trans)\n",
    "\n",
    "sax.scatter(\n",
    "    [0, 0, 0, 0],\n",
    "    [0, 1, 2, 3],\n",
    "    np.array([0.01, 0.1, 0.25, 0.5]) * 200,\n",
    "    c=[[6/256, 27/256, 170/256]]*4\n",
    ")\n",
    "sax.set_ylim(-0.2, 3.5)\n",
    "sax.tick_params(left=False, labelleft=False, labelright=True, bottom=False, labelbottom=False)\n",
    "sax.set_yticks([0, 1, 2, 3])\n",
    "sax.set_yticklabels([\"1%\", \"10%\", \"25%\", \"50%\"])\n",
    "sax.set_title(\"Expressing\\ncells\", ha=\"left\")\n",
    "for x in sax.spines.keys():\n",
    "    sax.spines[x].set_visible(False)\n",
    "sax_p = sax.get_position()\n",
    "sax_p.y0 -= 0.05\n",
    "sax_p.y1 -= 0.1\n",
    "sax_p.x0 += 0.02\n",
    "sax_p.x1 += 0.03\n",
    "sax.set_position(sax_p)\n",
    "fig.suptitle(\"IL6\", fontsize=16, fontstyle=\"italic\")\n",
    "fig.savefig(\"S6A_il6_dot.pdf\")"
   ]
  },
  {
   "cell_type": "code",
   "execution_count": null,
   "metadata": {},
   "outputs": [],
   "source": []
  }
 ],
 "metadata": {
  "kernelspec": {
   "display_name": "script",
   "language": "python",
   "name": "script"
  },
  "language_info": {
   "codemirror_mode": {
    "name": "ipython",
    "version": 3
   },
   "file_extension": ".py",
   "mimetype": "text/x-python",
   "name": "python",
   "nbconvert_exporter": "python",
   "pygments_lexer": "ipython3",
   "version": "3.6.9"
  }
 },
 "nbformat": 4,
 "nbformat_minor": 2
}
